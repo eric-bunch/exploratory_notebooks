{
 "cells": [
  {
   "cell_type": "markdown",
   "metadata": {},
   "source": [
    "# Investigating connection between persistent homology and eigenvalue decomposition of (normalized) Laplacian matrix\n",
    "- Is it possible to go directly from the weighted adjacency matrix to a barcode diagram/persistent homology?\n",
    " - Calculcate eigenvalues of normalized Laplacian matrix using the weighted adjacency matrix\n",
    " - Compute persistent $H_0$ of data set and compute barcode diagram & compare to eigenvalues"
   ]
  },
  {
   "cell_type": "code",
   "execution_count": 2,
   "metadata": {},
   "outputs": [
    {
     "data": {
      "text/html": [
       "<style>.container { width:90% !important; }</style>"
      ],
      "text/plain": [
       "<IPython.core.display.HTML object>"
      ]
     },
     "metadata": {},
     "output_type": "display_data"
    }
   ],
   "source": [
    "from IPython.core.display import display, HTML, Javascript\n",
    "display(HTML(\"<style>.container { width:90% !important; }</style>\"))\n",
    "\n",
    "# data\n",
    "import numpy as np\n",
    "from db import DB\n",
    "import pandas as pd\n",
    "import random\n",
    "\n",
    "import dionysus\n",
    "\n",
    "# plotting\n",
    "import matplotlib.pyplot as plt\n",
    "import seaborn as sns\n",
    "\n",
    "# format notebook output\n",
    "from IPython.core.interactiveshell import InteractiveShell\n",
    "InteractiveShell.ast_node_interactivity = \"all\"\n",
    "\n",
    "# style pandas display\n",
    "pd.set_option('display.max_columns', None)\n",
    "\n",
    "# matplotlib magic\n",
    "%matplotlib inline"
   ]
  },
  {
   "cell_type": "code",
   "execution_count": 241,
   "metadata": {
    "collapsed": true
   },
   "outputs": [],
   "source": [
    "import numpy as np\n",
    "from numpy.linalg import svd\n",
    "\n",
    "\n",
    "def rank(A, atol=1e-13, rtol=0):\n",
    "    \"\"\"Estimate the rank (i.e. the dimension of the nullspace) of a matrix.\n",
    "\n",
    "    The algorithm used by this function is based on the singular value\n",
    "    decomposition of `A`.\n",
    "\n",
    "    Parameters\n",
    "    ----------\n",
    "    A : ndarray\n",
    "        A should be at most 2-D.  A 1-D array with length n will be treated\n",
    "        as a 2-D with shape (1, n)\n",
    "    atol : float\n",
    "        The absolute tolerance for a zero singular value.  Singular values\n",
    "        smaller than `atol` are considered to be zero.\n",
    "    rtol : float\n",
    "        The relative tolerance.  Singular values less than rtol*smax are\n",
    "        considered to be zero, where smax is the largest singular value.\n",
    "\n",
    "    If both `atol` and `rtol` are positive, the combined tolerance is the\n",
    "    maximum of the two; that is::\n",
    "        tol = max(atol, rtol * smax)\n",
    "    Singular values smaller than `tol` are considered to be zero.\n",
    "\n",
    "    Return value\n",
    "    ------------\n",
    "    r : int\n",
    "        The estimated rank of the matrix.\n",
    "\n",
    "    See also\n",
    "    --------\n",
    "    numpy.linalg.matrix_rank\n",
    "        matrix_rank is basically the same as this function, but it does not\n",
    "        provide the option of the absolute tolerance.\n",
    "    \"\"\"\n",
    "\n",
    "    A = np.atleast_2d(A)\n",
    "    s = svd(A, compute_uv=False)\n",
    "    tol = max(atol, rtol * s[0])\n",
    "    rank = int((s >= tol).sum())\n",
    "    return rank\n",
    "\n",
    "\n",
    "def nullspace(A, atol=1e-13, rtol=0):\n",
    "    \"\"\"Compute an approximate basis for the nullspace of A.\n",
    "\n",
    "    The algorithm used by this function is based on the singular value\n",
    "    decomposition of `A`.\n",
    "\n",
    "    Parameters\n",
    "    ----------\n",
    "    A : ndarray\n",
    "        A should be at most 2-D.  A 1-D array with length k will be treated\n",
    "        as a 2-D with shape (1, k)\n",
    "    atol : float\n",
    "        The absolute tolerance for a zero singular value.  Singular values\n",
    "        smaller than `atol` are considered to be zero.\n",
    "    rtol : float\n",
    "        The relative tolerance.  Singular values less than rtol*smax are\n",
    "        considered to be zero, where smax is the largest singular value.\n",
    "\n",
    "    If both `atol` and `rtol` are positive, the combined tolerance is the\n",
    "    maximum of the two; that is::\n",
    "        tol = max(atol, rtol * smax)\n",
    "    Singular values smaller than `tol` are considered to be zero.\n",
    "\n",
    "    Return value\n",
    "    ------------\n",
    "    ns : ndarray\n",
    "        If `A` is an array with shape (m, k), then `ns` will be an array\n",
    "        with shape (k, n), where n is the estimated dimension of the\n",
    "        nullspace of `A`.  The columns of `ns` are a basis for the\n",
    "        nullspace; each element in numpy.dot(A, ns) will be approximately\n",
    "        zero.\n",
    "    \"\"\"\n",
    "\n",
    "    A = np.atleast_2d(A)\n",
    "    u, s, vh = svd(A)\n",
    "    tol = max(atol, rtol * s[0])\n",
    "    nnz = (s >= tol).sum()\n",
    "    ns = vh[nnz:].conj().T\n",
    "    return ns"
   ]
  },
  {
   "cell_type": "markdown",
   "metadata": {},
   "source": [
    "## Noisy circle"
   ]
  },
  {
   "cell_type": "code",
   "execution_count": 195,
   "metadata": {},
   "outputs": [],
   "source": [
    "n_pts = 100\n",
    "rrnd = 0.5\n",
    "alpha = [0.4, 0.6, 0.2, 0.4]\n",
    "\n",
    "pc = [[np.cos(x*np.pi) + alpha[0]*random.random(), np.sin(x*np.pi) + alpha[1]*random.random()] for \n",
    "      x in [(r + random.random()*rrnd)*(1/float(n_pts)) for r in range(-n_pts, n_pts)]]"
   ]
  },
  {
   "cell_type": "code",
   "execution_count": 196,
   "metadata": {},
   "outputs": [],
   "source": [
    "pc2 = [[x+2, y] for (x, y) in pc]"
   ]
  },
  {
   "cell_type": "code",
   "execution_count": 197,
   "metadata": {
    "collapsed": true
   },
   "outputs": [],
   "source": [
    "pcdf = pd.DataFrame(pc + pc2)"
   ]
  },
  {
   "cell_type": "code",
   "execution_count": 198,
   "metadata": {},
   "outputs": [
    {
     "data": {
      "image/png": "[encoded data removed]",
      "text/plain": [
       "<matplotlib.figure.Figure at 0x1a204d9ef0>"
      ]
     },
     "metadata": {},
     "output_type": "display_data"
    }
   ],
   "source": [
    "pcdf.rename(columns={0: 'x', 1: 'y'}).plot(\n",
    "    kind='scatter',\n",
    "    x='x',\n",
    "    y='y',\n",
    "    figsize=(7, 7),\n",
    "    c='#6DA5BA',\n",
    "    s=7\n",
    ");"
   ]
  },
  {
   "cell_type": "markdown",
   "metadata": {},
   "source": [
    "## Persistent Homology"
   ]
  },
  {
   "cell_type": "code",
   "execution_count": 199,
   "metadata": {},
   "outputs": [
    {
     "name": "stdout",
     "output_type": "stream",
     "text": [
      "CPU times: user 2.21 s, sys: 96.5 ms, total: 2.31 s\n",
      "Wall time: 2.3 s\n"
     ]
    }
   ],
   "source": [
    "%%time\n",
    "filtration = dionysus.fill_rips(np.array(pc+pc2), 2, 1.0)"
   ]
  },
  {
   "cell_type": "code",
   "execution_count": 200,
   "metadata": {},
   "outputs": [
    {
     "name": "stdout",
     "output_type": "stream",
     "text": [
      "CPU times: user 4.58 s, sys: 27.7 ms, total: 4.61 s\n",
      "Wall time: 4.59 s\n"
     ]
    }
   ],
   "source": [
    "%%time\n",
    "persistence = dionysus.homology_persistence(filtration)"
   ]
  },
  {
   "cell_type": "code",
   "execution_count": 201,
   "metadata": {},
   "outputs": [
    {
     "name": "stdout",
     "output_type": "stream",
     "text": [
      "CPU times: user 25.6 ms, sys: 2.07 ms, total: 27.7 ms\n",
      "Wall time: 27.5 ms\n"
     ]
    }
   ],
   "source": [
    "%%time\n",
    "dgms = dionysus.init_diagrams(persistence, filtration)"
   ]
  },
  {
   "cell_type": "code",
   "execution_count": 203,
   "metadata": {},
   "outputs": [
    {
     "data": {
      "image/png": "[encoded data removed]",
      "text/plain": [
       "<matplotlib.figure.Figure at 0x1a1fbcba20>"
      ]
     },
     "metadata": {},
     "output_type": "display_data"
    }
   ],
   "source": [
    "plt.figure(figsize=(8, 8));\n",
    "\n",
    "dionysus.plot.plot_bars(dgm=dgms[1], show=True);"
   ]
  },
  {
   "cell_type": "code",
   "execution_count": 204,
   "metadata": {},
   "outputs": [
    {
     "data": {
      "image/png": "[encoded data removed]",
      "text/plain": [
       "<matplotlib.figure.Figure at 0x1a2137f2b0>"
      ]
     },
     "metadata": {},
     "output_type": "display_data"
    }
   ],
   "source": [
    "pd.DataFrame(sorted([abs(point.birth - point.death) for point in dgms[1]])).reset_index().plot(\n",
    "    kind='scatter',\n",
    "    x='index',\n",
    "    y=0,\n",
    "    figsize=(10, 10),\n",
    "    s=10\n",
    ");"
   ]
  },
  {
   "cell_type": "markdown",
   "metadata": {},
   "source": [
    "## Eigenvalue decomposition"
   ]
  },
  {
   "cell_type": "code",
   "execution_count": 205,
   "metadata": {
    "collapsed": true
   },
   "outputs": [],
   "source": [
    "from numpy.linalg import svd, eig\n",
    "from scipy.spatial import distance_matrix\n",
    "from scipy.linalg import fractional_matrix_power"
   ]
  },
  {
   "cell_type": "code",
   "execution_count": 206,
   "metadata": {},
   "outputs": [
    {
     "name": "stdout",
     "output_type": "stream",
     "text": [
      "CPU times: user 6.86 ms, sys: 1.74 ms, total: 8.6 ms\n",
      "Wall time: 6.84 ms\n"
     ]
    }
   ],
   "source": [
    "%%time\n",
    "\n",
    "weighted_adjacency = distance_matrix(x=pc+pc2, y=pc+pc2)"
   ]
  },
  {
   "cell_type": "code",
   "execution_count": 230,
   "metadata": {},
   "outputs": [],
   "source": [
    "weighted_adjacency = weighted_adjacency/weighted_adjacency.max()"
   ]
  },
  {
   "cell_type": "markdown",
   "metadata": {},
   "source": [
    "## Eigenvalue decomposition with tensors"
   ]
  },
  {
   "cell_type": "code",
   "execution_count": 246,
   "metadata": {},
   "outputs": [
    {
     "name": "stdout",
     "output_type": "stream",
     "text": [
      "CPU times: user 61.3 ms, sys: 55.4 ms, total: 117 ms\n",
      "Wall time: 116 ms\n"
     ]
    }
   ],
   "source": [
    "%%time\n",
    "\n",
    "laplacian_tensor = np.array([\n",
    "    np.diag((weighted_adjacency <= epsilon).astype(int).sum(axis=0)) \\\n",
    "    - (weighted_adjacency <= epsilon).astype(int) \n",
    "    for epsilon in [x*0.01 for x in range(50)]\n",
    "])"
   ]
  },
  {
   "cell_type": "code",
   "execution_count": 247,
   "metadata": {},
   "outputs": [
    {
     "data": {
      "text/plain": [
       "(50, 400, 400)"
      ]
     },
     "execution_count": 247,
     "metadata": {},
     "output_type": "execute_result"
    }
   ],
   "source": [
    "laplacian_tensor.shape"
   ]
  },
  {
   "cell_type": "code",
   "execution_count": 248,
   "metadata": {},
   "outputs": [
    {
     "name": "stdout",
     "output_type": "stream",
     "text": [
      "CPU times: user 12 s, sys: 245 ms, total: 12.2 s\n",
      "Wall time: 3.11 s\n"
     ]
    }
   ],
   "source": [
    "%%time\n",
    "\n",
    "w_tensor, v_tensor = eig(laplacian_tensor)"
   ]
  },
  {
   "cell_type": "code",
   "execution_count": 249,
   "metadata": {},
   "outputs": [
    {
     "name": "stdout",
     "output_type": "stream",
     "text": [
      "CPU times: user 11 µs, sys: 1e+03 ns, total: 12 µs\n",
      "Wall time: 16 µs\n"
     ]
    }
   ],
   "source": [
    "%%time\n",
    "\n",
    "w_tensor, v_tensor = np.real(w_tensor), np.real(v_tensor)"
   ]
  },
  {
   "cell_type": "code",
   "execution_count": 250,
   "metadata": {},
   "outputs": [
    {
     "data": {
      "text/plain": [
       "(50, 400)"
      ]
     },
     "execution_count": 250,
     "metadata": {},
     "output_type": "execute_result"
    },
    {
     "data": {
      "text/plain": [
       "(50, 400, 400)"
      ]
     },
     "execution_count": 250,
     "metadata": {},
     "output_type": "execute_result"
    }
   ],
   "source": [
    "w_tensor.shape\n",
    "v_tensor.shape"
   ]
  },
  {
   "cell_type": "code",
   "execution_count": 252,
   "metadata": {
    "scrolled": true
   },
   "outputs": [
    {
     "name": "stdout",
     "output_type": "stream",
     "text": [
      "CPU times: user 171 µs, sys: 1e+03 ns, total: 172 µs\n",
      "Wall time: 179 µs\n"
     ]
    },
    {
     "data": {
      "text/plain": [
       "array([400, 317, 150,  47,  16,   2,   1,   1,   1,   1,   1,   1,   1,\n",
       "         1,   1,   1,   1,   1,   1,   1,   1,   1,   1,   1,   1,   1,\n",
       "         1,   1,   1,   1,   1,   1,   1,   1,   1,   1,   1,   1,   1,\n",
       "         1,   1,   1,   1,   1,   1,   1,   1,   1,   1,   1])"
      ]
     },
     "execution_count": 252,
     "metadata": {},
     "output_type": "execute_result"
    }
   ],
   "source": [
    "%%time\n",
    "\n",
    "np.array([np.count_nonzero(w_tensor[i] <= 1e-10) for i in range(50)])"
   ]
  },
  {
   "cell_type": "code",
   "execution_count": 254,
   "metadata": {},
   "outputs": [
    {
     "data": {
      "image/png": "[encoded data removed]",
      "text/plain": [
       "<matplotlib.figure.Figure at 0x1a1cb2fe80>"
      ]
     },
     "metadata": {},
     "output_type": "display_data"
    }
   ],
   "source": [
    "pd.Series([np.count_nonzero(w_tensor[i] <= 1e-13) for i in range(50)]).plot(\n",
    "    kind='line',\n",
    "    figsize=(15, 5),\n",
    "    lw=1\n",
    ");"
   ]
  },
  {
   "cell_type": "code",
   "execution_count": 257,
   "metadata": {
    "collapsed": true
   },
   "outputs": [],
   "source": [
    "laplacian_1_mtx = np.array([\n",
    "    np.array([2, 1, -1, 0, 0, 0, 0]),\n",
    "    np.array([1, 2, 1, -1, 0, 0, 0]),\n",
    "    np.array([-1, 1, 2, -1, 0, 0, 0]),\n",
    "    np.array([0, -1, -1, 2, 1, 0, -1]),\n",
    "    np.array([0, 0, 0, 1, 2, 1, -1]),\n",
    "    np.array([0, 0, 0, 0, 1, 2, 1]),\n",
    "    np.array([0, 0, 0, -1, -1, 1, 2])\n",
    "])"
   ]
  },
  {
   "cell_type": "code",
   "execution_count": 258,
   "metadata": {},
   "outputs": [
    {
     "data": {
      "text/plain": [
       "array([[ 2,  1, -1,  0,  0,  0,  0],\n",
       "       [ 1,  2,  1, -1,  0,  0,  0],\n",
       "       [-1,  1,  2, -1,  0,  0,  0],\n",
       "       [ 0, -1, -1,  2,  1,  0, -1],\n",
       "       [ 0,  0,  0,  1,  2,  1, -1],\n",
       "       [ 0,  0,  0,  0,  1,  2,  1],\n",
       "       [ 0,  0,  0, -1, -1,  1,  2]])"
      ]
     },
     "execution_count": 258,
     "metadata": {},
     "output_type": "execute_result"
    }
   ],
   "source": [
    "laplacian_1_mtx"
   ]
  },
  {
   "cell_type": "code",
   "execution_count": 260,
   "metadata": {},
   "outputs": [
    {
     "data": {
      "text/plain": [
       "(7, 2)"
      ]
     },
     "execution_count": 260,
     "metadata": {},
     "output_type": "execute_result"
    }
   ],
   "source": [
    "nullspace(laplacian_1_mtx, atol=1e-10).shape"
   ]
  },
  {
   "cell_type": "markdown",
   "metadata": {},
   "source": [
    "## Tensor decomposition of laplacian tensor\n",
    "Will this give a way to choose the \"most\" persistent elements of $H_0$ without having to inspect the Betti sequence?"
   ]
  },
  {
   "cell_type": "code",
   "execution_count": null,
   "metadata": {
    "collapsed": true
   },
   "outputs": [],
   "source": []
  }
 ],
 "metadata": {
  "kernelspec": {
   "display_name": "Python 3",
   "language": "python",
   "name": "python3"
  },
  "language_info": {
   "codemirror_mode": {
    "name": "ipython",
    "version": 3
   },
   "file_extension": ".py",
   "mimetype": "text/x-python",
   "name": "python",
   "nbconvert_exporter": "python",
   "pygments_lexer": "ipython3",
   "version": "3.6.1"
  }
 },
 "nbformat": 4,
 "nbformat_minor": 2
}
